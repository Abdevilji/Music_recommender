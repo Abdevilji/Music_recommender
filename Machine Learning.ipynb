{
 "cells": [
  {
   "cell_type": "code",
   "execution_count": 1,
   "id": "6b52939f-787d-4943-a0d7-8c4fe8bf8661",
   "metadata": {},
   "outputs": [],
   "source": [
    "import pandas as pd\n"
   ]
  },
  {
   "cell_type": "code",
   "execution_count": 5,
   "id": "6528d44e-1b68-4fb3-af56-ae4903d0cc3f",
   "metadata": {},
   "outputs": [],
   "source": [
    "df=pd.read_csv(\"spotify_millsongdata.csv\")"
   ]
  },
  {
   "cell_type": "code",
   "execution_count": 6,
   "id": "d8212929-c7d2-4016-8166-b5ca5e24d6ad",
   "metadata": {},
   "outputs": [
    {
     "data": {
      "text/html": [
       "<div>\n",
       "<style scoped>\n",
       "    .dataframe tbody tr th:only-of-type {\n",
       "        vertical-align: middle;\n",
       "    }\n",
       "\n",
       "    .dataframe tbody tr th {\n",
       "        vertical-align: top;\n",
       "    }\n",
       "\n",
       "    .dataframe thead th {\n",
       "        text-align: right;\n",
       "    }\n",
       "</style>\n",
       "<table border=\"1\" class=\"dataframe\">\n",
       "  <thead>\n",
       "    <tr style=\"text-align: right;\">\n",
       "      <th></th>\n",
       "      <th>artist</th>\n",
       "      <th>song</th>\n",
       "      <th>link</th>\n",
       "      <th>text</th>\n",
       "    </tr>\n",
       "  </thead>\n",
       "  <tbody>\n",
       "    <tr>\n",
       "      <th>0</th>\n",
       "      <td>ABBA</td>\n",
       "      <td>Ahe's My Kind Of Girl</td>\n",
       "      <td>/a/abba/ahes+my+kind+of+girl_20598417.html</td>\n",
       "      <td>Look at her face, it's a wonderful face  \\r\\nA...</td>\n",
       "    </tr>\n",
       "    <tr>\n",
       "      <th>1</th>\n",
       "      <td>ABBA</td>\n",
       "      <td>Andante, Andante</td>\n",
       "      <td>/a/abba/andante+andante_20002708.html</td>\n",
       "      <td>Take it easy with me, please  \\r\\nTouch me gen...</td>\n",
       "    </tr>\n",
       "    <tr>\n",
       "      <th>2</th>\n",
       "      <td>ABBA</td>\n",
       "      <td>As Good As New</td>\n",
       "      <td>/a/abba/as+good+as+new_20003033.html</td>\n",
       "      <td>I'll never know why I had to go  \\r\\nWhy I had...</td>\n",
       "    </tr>\n",
       "    <tr>\n",
       "      <th>3</th>\n",
       "      <td>ABBA</td>\n",
       "      <td>Bang</td>\n",
       "      <td>/a/abba/bang_20598415.html</td>\n",
       "      <td>Making somebody happy is a question of give an...</td>\n",
       "    </tr>\n",
       "    <tr>\n",
       "      <th>4</th>\n",
       "      <td>ABBA</td>\n",
       "      <td>Bang-A-Boomerang</td>\n",
       "      <td>/a/abba/bang+a+boomerang_20002668.html</td>\n",
       "      <td>Making somebody happy is a question of give an...</td>\n",
       "    </tr>\n",
       "  </tbody>\n",
       "</table>\n",
       "</div>"
      ],
      "text/plain": [
       "  artist                   song                                        link  \\\n",
       "0   ABBA  Ahe's My Kind Of Girl  /a/abba/ahes+my+kind+of+girl_20598417.html   \n",
       "1   ABBA       Andante, Andante       /a/abba/andante+andante_20002708.html   \n",
       "2   ABBA         As Good As New        /a/abba/as+good+as+new_20003033.html   \n",
       "3   ABBA                   Bang                  /a/abba/bang_20598415.html   \n",
       "4   ABBA       Bang-A-Boomerang      /a/abba/bang+a+boomerang_20002668.html   \n",
       "\n",
       "                                                text  \n",
       "0  Look at her face, it's a wonderful face  \\r\\nA...  \n",
       "1  Take it easy with me, please  \\r\\nTouch me gen...  \n",
       "2  I'll never know why I had to go  \\r\\nWhy I had...  \n",
       "3  Making somebody happy is a question of give an...  \n",
       "4  Making somebody happy is a question of give an...  "
      ]
     },
     "execution_count": 6,
     "metadata": {},
     "output_type": "execute_result"
    }
   ],
   "source": [
    "df.head(5)"
   ]
  },
  {
   "cell_type": "code",
   "execution_count": 7,
   "id": "d5f0dc86-b014-4331-85a5-7562e70dc622",
   "metadata": {},
   "outputs": [],
   "source": [
    "df =df.sample(5000).drop('link', axis=1).reset_index(drop=True)"
   ]
  },
  {
   "cell_type": "code",
   "execution_count": 9,
   "id": "a4df9dd8-abab-4b6e-aee0-c0a531a277d7",
   "metadata": {},
   "outputs": [
    {
     "data": {
      "text/plain": [
       "(5000, 3)"
      ]
     },
     "execution_count": 9,
     "metadata": {},
     "output_type": "execute_result"
    }
   ],
   "source": [
    "df.shape"
   ]
  },
  {
   "cell_type": "code",
   "execution_count": 10,
   "id": "0f9682f4-fe51-41aa-8814-cabd23db33b6",
   "metadata": {},
   "outputs": [
    {
     "data": {
      "text/html": [
       "<div>\n",
       "<style scoped>\n",
       "    .dataframe tbody tr th:only-of-type {\n",
       "        vertical-align: middle;\n",
       "    }\n",
       "\n",
       "    .dataframe tbody tr th {\n",
       "        vertical-align: top;\n",
       "    }\n",
       "\n",
       "    .dataframe thead th {\n",
       "        text-align: right;\n",
       "    }\n",
       "</style>\n",
       "<table border=\"1\" class=\"dataframe\">\n",
       "  <thead>\n",
       "    <tr style=\"text-align: right;\">\n",
       "      <th></th>\n",
       "      <th>artist</th>\n",
       "      <th>song</th>\n",
       "      <th>text</th>\n",
       "    </tr>\n",
       "  </thead>\n",
       "  <tbody>\n",
       "    <tr>\n",
       "      <th>0</th>\n",
       "      <td>Cake</td>\n",
       "      <td>Mr. Mastodon Farm</td>\n",
       "      <td>\\r\\n  \\r\\n  \\r\\n  \\r\\nBirds fall from the wi...</td>\n",
       "    </tr>\n",
       "    <tr>\n",
       "      <th>1</th>\n",
       "      <td>Tiffany</td>\n",
       "      <td>I'm Not Sleeping</td>\n",
       "      <td>Wake up, wake up....  \\r\\nTurn on the water  \\...</td>\n",
       "    </tr>\n",
       "    <tr>\n",
       "      <th>2</th>\n",
       "      <td>Neil Sedaka</td>\n",
       "      <td>I Belong To You</td>\n",
       "      <td>You kissed my lips and now my life has just be...</td>\n",
       "    </tr>\n",
       "    <tr>\n",
       "      <th>3</th>\n",
       "      <td>Bread</td>\n",
       "      <td>Be Kind To Me</td>\n",
       "      <td>Be kind to me  \\r\\nBe kind to me  \\r\\nBe kind ...</td>\n",
       "    </tr>\n",
       "    <tr>\n",
       "      <th>4</th>\n",
       "      <td>Dolly Parton</td>\n",
       "      <td>Chas</td>\n",
       "      <td>Chas I cook your a breakfast and send you to w...</td>\n",
       "    </tr>\n",
       "    <tr>\n",
       "      <th>5</th>\n",
       "      <td>Bryan White</td>\n",
       "      <td>How Long</td>\n",
       "      <td>You say you need someone to love  \\r\\nBut when...</td>\n",
       "    </tr>\n",
       "    <tr>\n",
       "      <th>6</th>\n",
       "      <td>Nat King Cole</td>\n",
       "      <td>Come Closer To Me (Acercate Mas)</td>\n",
       "      <td>Come closer to me  \\r\\nSo I can see  \\r\\nHeave...</td>\n",
       "    </tr>\n",
       "    <tr>\n",
       "      <th>7</th>\n",
       "      <td>Miley Cyrus</td>\n",
       "      <td>Twinkle Song</td>\n",
       "      <td>[Verse 1]  \\r\\nI had a dream  \\r\\nDavie Bowie ...</td>\n",
       "    </tr>\n",
       "    <tr>\n",
       "      <th>8</th>\n",
       "      <td>America</td>\n",
       "      <td>In The Sea</td>\n",
       "      <td>In the sea the fish have learned to fly  \\r\\nO...</td>\n",
       "    </tr>\n",
       "    <tr>\n",
       "      <th>9</th>\n",
       "      <td>Lloyd Cole</td>\n",
       "      <td>To The Church</td>\n",
       "      <td>I'm looking for a religious girl  \\r\\nWith chi...</td>\n",
       "    </tr>\n",
       "  </tbody>\n",
       "</table>\n",
       "</div>"
      ],
      "text/plain": [
       "          artist                              song  \\\n",
       "0           Cake                 Mr. Mastodon Farm   \n",
       "1        Tiffany                  I'm Not Sleeping   \n",
       "2    Neil Sedaka                   I Belong To You   \n",
       "3          Bread                     Be Kind To Me   \n",
       "4   Dolly Parton                              Chas   \n",
       "5    Bryan White                          How Long   \n",
       "6  Nat King Cole  Come Closer To Me (Acercate Mas)   \n",
       "7    Miley Cyrus                      Twinkle Song   \n",
       "8        America                        In The Sea   \n",
       "9     Lloyd Cole                     To The Church   \n",
       "\n",
       "                                                text  \n",
       "0    \\r\\n  \\r\\n  \\r\\n  \\r\\nBirds fall from the wi...  \n",
       "1  Wake up, wake up....  \\r\\nTurn on the water  \\...  \n",
       "2  You kissed my lips and now my life has just be...  \n",
       "3  Be kind to me  \\r\\nBe kind to me  \\r\\nBe kind ...  \n",
       "4  Chas I cook your a breakfast and send you to w...  \n",
       "5  You say you need someone to love  \\r\\nBut when...  \n",
       "6  Come closer to me  \\r\\nSo I can see  \\r\\nHeave...  \n",
       "7  [Verse 1]  \\r\\nI had a dream  \\r\\nDavie Bowie ...  \n",
       "8  In the sea the fish have learned to fly  \\r\\nO...  \n",
       "9  I'm looking for a religious girl  \\r\\nWith chi...  "
      ]
     },
     "execution_count": 10,
     "metadata": {},
     "output_type": "execute_result"
    }
   ],
   "source": [
    "df.head(10)"
   ]
  },
  {
   "cell_type": "code",
   "execution_count": 11,
   "id": "003a1808-c271-4ac4-8866-8348cd708303",
   "metadata": {},
   "outputs": [
    {
     "data": {
      "text/plain": [
       "\"  \\r\\n  \\r\\n  \\r\\n  \\r\\nBirds fall from the window ledge above mine.  \\r\\n  \\r\\nThen they flap their wings at the last second.  \\r\\n  \\r\\nYou see birds fall from the window ledge above mine.  \\r\\n  \\r\\nThen they flap their wings at the last second.  \\r\\n  \\r\\nI can see their dead weight  \\r\\n  \\r\\nJust dropping like stones  \\r\\n  \\r\\nFor small loaves of bread  \\r\\n  \\r\\nPast my window all the time.  \\r\\n  \\r\\nBut unless I get up  \\r\\n  \\r\\nWalk across the room  \\r\\n  \\r\\nAnd peer down below  \\r\\n  \\r\\nI don't see their last second curves  \\r\\n  \\r\\nToward a horizontal flight.  \\r\\n  \\r\\nAll these birds just falling from the ledge like stones.  \\r\\n  \\r\\nNow due to a construct in my mind  \\r\\n  \\r\\nThat makes their falling and their flight  \\r\\n  \\r\\nSymbolic of my entire existence,  \\r\\n  \\r\\nIt becomes important for me  \\r\\n  \\r\\nTo get up and see  \\r\\n  \\r\\nTheir last second curves toward flight.  \\r\\n  \\r\\nIt's almost as if my life will fall  \\r\\n  \\r\\nUnless I see their ascent.  \\r\\n  \\r\\nMr. Mastodon Farm,  \\r\\n  \\r\\nMr. Mastodon Farm,  \\r\\n  \\r\\nCuts swatches out of all material.  \\r\\n  \\r\\nMr. Mastodon Farm,  \\r\\n  \\r\\nMr. Mastodon Farm,  \\r\\n  \\r\\nCuts swatches out of all material.  \\r\\n  \\r\\nBirds fall from the window ledge above mine.  \\r\\n  \\r\\nThen they flap their wings at the last second.  \\r\\n  \\r\\nI said birds fall from the window ledge above mine.  \\r\\n  \\r\\nThen they flap their wings at the last second.  \\r\\n  \\r\\nBut unless I get up,  \\r\\n  \\r\\nWalk across the room  \\r\\n  \\r\\nAnd peer down below,  \\r\\n  \\r\\nI won't see their last second curves  \\r\\n  \\r\\nToward a, a horizontal flight.  \\r\\n  \\r\\nAll these birds just falling from the ledge like stones.  \\r\\n  \\r\\nNow due to a construct in my mind  \\r\\n  \\r\\nThat makes their falling and their flight  \\r\\n  \\r\\nSymbolic of my entire existence,  \\r\\n  \\r\\nIt becomes important for me  \\r\\n  \\r\\nTo get up and see  \\r\\n  \\r\\nTheir last second curves toward flight.  \\r\\n  \\r\\nIt's almost like my life will fall,  \\r\\n  \\r\\nMy life will fall,  \\r\\n  \\r\\nUnless I see their ascent.  \\r\\n  \\r\\nMr. Mastodon Farm,  \\r\\n  \\r\\nMr. Mastodon Farm,  \\r\\n  \\r\\nCuts swatches out of all material.  \\r\\n  \\r\\nMr. Mastodon Farm,  \\r\\n  \\r\\nMr. Mastodon farm,  \\r\\n  \\r\\nCuts swatches out of all material.  \\r\\n  \\r\\nMr. Mastodon Farm,  \\r\\n  \\r\\nMr. Mastodon farm,  \\r\\n  \\r\\nCuts swatches out of all material.  \\r\\n  \\r\\n\\r\\n\""
      ]
     },
     "execution_count": 11,
     "metadata": {},
     "output_type": "execute_result"
    }
   ],
   "source": [
    "df.text[0]"
   ]
  },
  {
   "cell_type": "markdown",
   "id": "4e8d8f08-9941-4efa-a7d0-1c841b048c03",
   "metadata": {},
   "source": [
    "Text Cleaning /preprocessing #so now we need to rempve the \\r and other unnecessary things from thetext of the somg "
   ]
  },
  {
   "cell_type": "code",
   "execution_count": 15,
   "id": "c2502eb8-f5d6-4732-9042-bca7b26aa22c",
   "metadata": {},
   "outputs": [],
   "source": [
    "df['text'] = df['text'].str.lower().replace(r'^\\w\\s', ' ').replace(r'\\n', ' ', regex = True)"
   ]
  },
  {
   "cell_type": "code",
   "execution_count": 16,
   "id": "1a6d36e5-5b63-4499-baad-04ade30348b8",
   "metadata": {},
   "outputs": [
    {
     "data": {
      "text/html": [
       "<div>\n",
       "<style scoped>\n",
       "    .dataframe tbody tr th:only-of-type {\n",
       "        vertical-align: middle;\n",
       "    }\n",
       "\n",
       "    .dataframe tbody tr th {\n",
       "        vertical-align: top;\n",
       "    }\n",
       "\n",
       "    .dataframe thead th {\n",
       "        text-align: right;\n",
       "    }\n",
       "</style>\n",
       "<table border=\"1\" class=\"dataframe\">\n",
       "  <thead>\n",
       "    <tr style=\"text-align: right;\">\n",
       "      <th></th>\n",
       "      <th>artist</th>\n",
       "      <th>song</th>\n",
       "      <th>text</th>\n",
       "    </tr>\n",
       "  </thead>\n",
       "  <tbody>\n",
       "    <tr>\n",
       "      <th>0</th>\n",
       "      <td>Cake</td>\n",
       "      <td>Mr. Mastodon Farm</td>\n",
       "      <td>\\r   \\r   \\r   \\r birds fall from the window...</td>\n",
       "    </tr>\n",
       "    <tr>\n",
       "      <th>1</th>\n",
       "      <td>Tiffany</td>\n",
       "      <td>I'm Not Sleeping</td>\n",
       "      <td>wake up, wake up....  \\r turn on the water  \\r...</td>\n",
       "    </tr>\n",
       "    <tr>\n",
       "      <th>2</th>\n",
       "      <td>Neil Sedaka</td>\n",
       "      <td>I Belong To You</td>\n",
       "      <td>you kissed my lips and now my life has just be...</td>\n",
       "    </tr>\n",
       "    <tr>\n",
       "      <th>3</th>\n",
       "      <td>Bread</td>\n",
       "      <td>Be Kind To Me</td>\n",
       "      <td>be kind to me  \\r be kind to me  \\r be kind to...</td>\n",
       "    </tr>\n",
       "    <tr>\n",
       "      <th>4</th>\n",
       "      <td>Dolly Parton</td>\n",
       "      <td>Chas</td>\n",
       "      <td>chas i cook your a breakfast and send you to w...</td>\n",
       "    </tr>\n",
       "    <tr>\n",
       "      <th>...</th>\n",
       "      <td>...</td>\n",
       "      <td>...</td>\n",
       "      <td>...</td>\n",
       "    </tr>\n",
       "    <tr>\n",
       "      <th>4995</th>\n",
       "      <td>Bee Gees</td>\n",
       "      <td>Forever</td>\n",
       "      <td>hush my darling , sleep my lover  \\r there'll ...</td>\n",
       "    </tr>\n",
       "    <tr>\n",
       "      <th>4996</th>\n",
       "      <td>Joni Mitchell</td>\n",
       "      <td>Conversation</td>\n",
       "      <td>he comes for conversation  \\r i comfort him so...</td>\n",
       "    </tr>\n",
       "    <tr>\n",
       "      <th>4997</th>\n",
       "      <td>Savage Garden</td>\n",
       "      <td>A Thousand Words</td>\n",
       "      <td>we stumble in a tangled web  \\r decaying frien...</td>\n",
       "    </tr>\n",
       "    <tr>\n",
       "      <th>4998</th>\n",
       "      <td>Steely Dan</td>\n",
       "      <td>Any Major Dude Will Tell You</td>\n",
       "      <td>i never seen you looking so bad my funky one  ...</td>\n",
       "    </tr>\n",
       "    <tr>\n",
       "      <th>4999</th>\n",
       "      <td>Manowar</td>\n",
       "      <td>Secret Of Steel</td>\n",
       "      <td>atop the mountain, where the river of steel fl...</td>\n",
       "    </tr>\n",
       "  </tbody>\n",
       "</table>\n",
       "<p>5000 rows × 3 columns</p>\n",
       "</div>"
      ],
      "text/plain": [
       "             artist                          song  \\\n",
       "0              Cake             Mr. Mastodon Farm   \n",
       "1           Tiffany              I'm Not Sleeping   \n",
       "2       Neil Sedaka               I Belong To You   \n",
       "3             Bread                 Be Kind To Me   \n",
       "4      Dolly Parton                          Chas   \n",
       "...             ...                           ...   \n",
       "4995       Bee Gees                       Forever   \n",
       "4996  Joni Mitchell                  Conversation   \n",
       "4997  Savage Garden              A Thousand Words   \n",
       "4998     Steely Dan  Any Major Dude Will Tell You   \n",
       "4999        Manowar               Secret Of Steel   \n",
       "\n",
       "                                                   text  \n",
       "0       \\r   \\r   \\r   \\r birds fall from the window...  \n",
       "1     wake up, wake up....  \\r turn on the water  \\r...  \n",
       "2     you kissed my lips and now my life has just be...  \n",
       "3     be kind to me  \\r be kind to me  \\r be kind to...  \n",
       "4     chas i cook your a breakfast and send you to w...  \n",
       "...                                                 ...  \n",
       "4995  hush my darling , sleep my lover  \\r there'll ...  \n",
       "4996  he comes for conversation  \\r i comfort him so...  \n",
       "4997  we stumble in a tangled web  \\r decaying frien...  \n",
       "4998  i never seen you looking so bad my funky one  ...  \n",
       "4999  atop the mountain, where the river of steel fl...  \n",
       "\n",
       "[5000 rows x 3 columns]"
      ]
     },
     "execution_count": 16,
     "metadata": {},
     "output_type": "execute_result"
    }
   ],
   "source": [
    "df\n"
   ]
  },
  {
   "cell_type": "code",
   "execution_count": 17,
   "id": "9f1f062b-0b4b-4ec7-a5bf-1b8abb1c9832",
   "metadata": {},
   "outputs": [],
   "source": [
    "#TokenizATION based on tag ,then using theta for distance between two or more for comparing similarity for recomending"
   ]
  },
  {
   "cell_type": "code",
   "execution_count": 19,
   "id": "0d1806a3-fc55-4a52-b12a-e24cc42c366f",
   "metadata": {},
   "outputs": [],
   "source": [
    "import nltk\n",
    "from nltk.stem.porter import PorterStemmer\n",
    "stemmer = PorterStemmer()\n",
    "\n",
    "def tokenization(txt):\n",
    "    tokens = nltk.word_tokenize(txt)\n",
    "    stemming = [stemmer.stem(w) for w in tokens]\n",
    "    return \" \".join(stemming)"
   ]
  },
  {
   "cell_type": "code",
   "execution_count": 20,
   "id": "68b43b8b-8b5f-4302-8db6-6ca65e64a4ca",
   "metadata": {},
   "outputs": [],
   "source": [
    "#testing token after download nltk punkt"
   ]
  },
  {
   "cell_type": "code",
   "execution_count": 23,
   "id": "a6eb085e-880b-44d3-9936-2f512e38e59f",
   "metadata": {},
   "outputs": [
    {
     "name": "stderr",
     "output_type": "stream",
     "text": [
      "[nltk_data] Downloading package punkt to C:\\Users\\ABHISHEK\n",
      "[nltk_data]     SINGH\\AppData\\Roaming\\nltk_data...\n",
      "[nltk_data]   Unzipping tokenizers\\punkt.zip.\n"
     ]
    },
    {
     "data": {
      "text/plain": [
       "True"
      ]
     },
     "execution_count": 23,
     "metadata": {},
     "output_type": "execute_result"
    }
   ],
   "source": [
    "nltk.download('punkt') "
   ]
  },
  {
   "cell_type": "code",
   "execution_count": 25,
   "id": "8c040976-f032-4856-9560-ab1b483fbcec",
   "metadata": {},
   "outputs": [
    {
     "data": {
      "text/plain": [
       "'you are beauti , beauti'"
      ]
     },
     "execution_count": 25,
     "metadata": {},
     "output_type": "execute_result"
    }
   ],
   "source": [
    "tokenization(\"you are beautiful, beauty\")"
   ]
  },
  {
   "cell_type": "code",
   "execution_count": 26,
   "id": "21eb2d8b-aec3-40b1-b660-4796cec4caed",
   "metadata": {},
   "outputs": [],
   "source": [
    "df['text'] = df['text'].apply(lambda x: tokenization(x))"
   ]
  },
  {
   "cell_type": "code",
   "execution_count": 28,
   "id": "6a0bcbc2-04e7-420e-99cc-5db4aa1ddb31",
   "metadata": {},
   "outputs": [
    {
     "data": {
      "text/html": [
       "<div>\n",
       "<style scoped>\n",
       "    .dataframe tbody tr th:only-of-type {\n",
       "        vertical-align: middle;\n",
       "    }\n",
       "\n",
       "    .dataframe tbody tr th {\n",
       "        vertical-align: top;\n",
       "    }\n",
       "\n",
       "    .dataframe thead th {\n",
       "        text-align: right;\n",
       "    }\n",
       "</style>\n",
       "<table border=\"1\" class=\"dataframe\">\n",
       "  <thead>\n",
       "    <tr style=\"text-align: right;\">\n",
       "      <th></th>\n",
       "      <th>artist</th>\n",
       "      <th>song</th>\n",
       "      <th>text</th>\n",
       "    </tr>\n",
       "  </thead>\n",
       "  <tbody>\n",
       "    <tr>\n",
       "      <th>4995</th>\n",
       "      <td>Bee Gees</td>\n",
       "      <td>Forever</td>\n",
       "      <td>hush my darl , sleep my lover there 'll be rai...</td>\n",
       "    </tr>\n",
       "    <tr>\n",
       "      <th>4996</th>\n",
       "      <td>Joni Mitchell</td>\n",
       "      <td>Conversation</td>\n",
       "      <td>he come for convers i comfort him sometim comf...</td>\n",
       "    </tr>\n",
       "    <tr>\n",
       "      <th>4997</th>\n",
       "      <td>Savage Garden</td>\n",
       "      <td>A Thousand Words</td>\n",
       "      <td>we stumbl in a tangl web decay friendship almo...</td>\n",
       "    </tr>\n",
       "    <tr>\n",
       "      <th>4998</th>\n",
       "      <td>Steely Dan</td>\n",
       "      <td>Any Major Dude Will Tell You</td>\n",
       "      <td>i never seen you look so bad my funki one you ...</td>\n",
       "    </tr>\n",
       "    <tr>\n",
       "      <th>4999</th>\n",
       "      <td>Manowar</td>\n",
       "      <td>Secret Of Steel</td>\n",
       "      <td>atop the mountain , where the river of steel f...</td>\n",
       "    </tr>\n",
       "  </tbody>\n",
       "</table>\n",
       "</div>"
      ],
      "text/plain": [
       "             artist                          song  \\\n",
       "4995       Bee Gees                       Forever   \n",
       "4996  Joni Mitchell                  Conversation   \n",
       "4997  Savage Garden              A Thousand Words   \n",
       "4998     Steely Dan  Any Major Dude Will Tell You   \n",
       "4999        Manowar               Secret Of Steel   \n",
       "\n",
       "                                                   text  \n",
       "4995  hush my darl , sleep my lover there 'll be rai...  \n",
       "4996  he come for convers i comfort him sometim comf...  \n",
       "4997  we stumbl in a tangl web decay friendship almo...  \n",
       "4998  i never seen you look so bad my funki one you ...  \n",
       "4999  atop the mountain , where the river of steel f...  "
      ]
     },
     "execution_count": 28,
     "metadata": {},
     "output_type": "execute_result"
    }
   ],
   "source": [
    "df.tail(5)"
   ]
  },
  {
   "cell_type": "code",
   "execution_count": 29,
   "id": "2d08cb2b-8c87-4568-840f-35df21c92215",
   "metadata": {},
   "outputs": [],
   "source": [
    "from sklearn.feature_extraction.text import TfidfVectorizer\n",
    "from sklearn.metrics.pairwise import cosine_similarity"
   ]
  },
  {
   "cell_type": "code",
   "execution_count": 30,
   "id": "cb565c76-198b-456f-b7d3-7687bccf36b0",
   "metadata": {},
   "outputs": [],
   "source": [
    "tfidvector = TfidfVectorizer(analyzer='word',stop_words='english')\n",
    "matrix = tfidvector.fit_transform(df['text'])\n",
    "similarity = cosine_similarity(matrix)"
   ]
  },
  {
   "cell_type": "code",
   "execution_count": 31,
   "id": "fdb897a9-cef9-43aa-8f0c-976818879b30",
   "metadata": {},
   "outputs": [
    {
     "data": {
      "text/plain": [
       "array([[1.        , 0.0238083 , 0.01212369, ..., 0.00295265, 0.02096811,\n",
       "        0.        ],\n",
       "       [0.0238083 , 1.        , 0.03099578, ..., 0.06886291, 0.0506379 ,\n",
       "        0.02790222],\n",
       "       [0.01212369, 0.03099578, 1.        , ..., 0.02065686, 0.0658981 ,\n",
       "        0.0207812 ],\n",
       "       ...,\n",
       "       [0.00295265, 0.06886291, 0.02065686, ..., 1.        , 0.02116355,\n",
       "        0.00176872],\n",
       "       [0.02096811, 0.0506379 , 0.0658981 , ..., 0.02116355, 1.        ,\n",
       "        0.00734995],\n",
       "       [0.        , 0.02790222, 0.0207812 , ..., 0.00176872, 0.00734995,\n",
       "        1.        ]])"
      ]
     },
     "execution_count": 31,
     "metadata": {},
     "output_type": "execute_result"
    }
   ],
   "source": [
    "similarity\n"
   ]
  },
  {
   "cell_type": "code",
   "execution_count": 33,
   "id": "335aabc8-ae30-4794-878b-e3098a9c3956",
   "metadata": {},
   "outputs": [
    {
     "data": {
      "text/plain": [
       "array([1.        , 0.0238083 , 0.01212369, ..., 0.00295265, 0.02096811,\n",
       "       0.        ])"
      ]
     },
     "execution_count": 33,
     "metadata": {},
     "output_type": "execute_result"
    }
   ],
   "source": [
    "similarity[0]"
   ]
  },
  {
   "cell_type": "code",
   "execution_count": 35,
   "id": "dbddc8a4-c467-404c-93c0-ce5e3042477a",
   "metadata": {},
   "outputs": [
    {
     "data": {
      "text/html": [
       "<div>\n",
       "<style scoped>\n",
       "    .dataframe tbody tr th:only-of-type {\n",
       "        vertical-align: middle;\n",
       "    }\n",
       "\n",
       "    .dataframe tbody tr th {\n",
       "        vertical-align: top;\n",
       "    }\n",
       "\n",
       "    .dataframe thead th {\n",
       "        text-align: right;\n",
       "    }\n",
       "</style>\n",
       "<table border=\"1\" class=\"dataframe\">\n",
       "  <thead>\n",
       "    <tr style=\"text-align: right;\">\n",
       "      <th></th>\n",
       "      <th>artist</th>\n",
       "      <th>song</th>\n",
       "      <th>text</th>\n",
       "    </tr>\n",
       "  </thead>\n",
       "  <tbody>\n",
       "    <tr>\n",
       "      <th>1071</th>\n",
       "      <td>Hillsong</td>\n",
       "      <td>Forever</td>\n",
       "      <td>i 'll worship at your throne whisper my own lo...</td>\n",
       "    </tr>\n",
       "    <tr>\n",
       "      <th>2183</th>\n",
       "      <td>Ozzy Osbourne</td>\n",
       "      <td>Forever</td>\n",
       "      <td>there 's no present there 's no futur i do n't...</td>\n",
       "    </tr>\n",
       "    <tr>\n",
       "      <th>2267</th>\n",
       "      <td>R. Kelly</td>\n",
       "      <td>Forever</td>\n",
       "      <td>babi i have someth that i want to ask you babi...</td>\n",
       "    </tr>\n",
       "    <tr>\n",
       "      <th>4995</th>\n",
       "      <td>Bee Gees</td>\n",
       "      <td>Forever</td>\n",
       "      <td>hush my darl , sleep my lover there 'll be rai...</td>\n",
       "    </tr>\n",
       "  </tbody>\n",
       "</table>\n",
       "</div>"
      ],
      "text/plain": [
       "             artist     song  \\\n",
       "1071       Hillsong  Forever   \n",
       "2183  Ozzy Osbourne  Forever   \n",
       "2267       R. Kelly  Forever   \n",
       "4995       Bee Gees  Forever   \n",
       "\n",
       "                                                   text  \n",
       "1071  i 'll worship at your throne whisper my own lo...  \n",
       "2183  there 's no present there 's no futur i do n't...  \n",
       "2267  babi i have someth that i want to ask you babi...  \n",
       "4995  hush my darl , sleep my lover there 'll be rai...  "
      ]
     },
     "execution_count": 35,
     "metadata": {},
     "output_type": "execute_result"
    }
   ],
   "source": [
    "df[df['song'] == 'Forever']"
   ]
  },
  {
   "cell_type": "code",
   "execution_count": 36,
   "id": "3be4ccd6-96db-483e-a3e6-0ba8f6a53fad",
   "metadata": {},
   "outputs": [],
   "source": [
    "def recommendation(song_df):\n",
    "    idx = df[df['song'] == song_df].index[0]\n",
    "    distances = sorted(list(enumerate(similarity[idx])),reverse=True,key=lambda x:x[1])\n",
    "    \n",
    "    songs = []\n",
    "    for m_id in distances[1:21]:\n",
    "        songs.append(df.iloc[m_id[0]].song)\n",
    "        \n",
    "    return songs\n",
    "    \n"
   ]
  },
  {
   "cell_type": "code",
   "execution_count": 37,
   "id": "fbe23010-a7d8-4950-ab71-4ddd82cb09ee",
   "metadata": {},
   "outputs": [
    {
     "data": {
      "text/plain": [
       "['Lord You Are Good (Ft. New Breed)',\n",
       " 'Separated',\n",
       " \"They'll Never Take Her Love From Me\",\n",
       " 'If I Love Again',\n",
       " \"Sing Redemption's Song\",\n",
       " 'I Love You',\n",
       " 'Mountain Top',\n",
       " 'Pledging My Love',\n",
       " 'Church Of Women',\n",
       " \"It's So Cool\",\n",
       " 'Forever Yours',\n",
       " 'Smile',\n",
       " 'Just One Way To Say I Love You',\n",
       " 'One Child',\n",
       " 'Home',\n",
       " \"I'll Be There For You\",\n",
       " 'Stay With Me Forever',\n",
       " 'Always And Forever',\n",
       " 'We Will Fall',\n",
       " 'The Glory Of Our King']"
      ]
     },
     "execution_count": 37,
     "metadata": {},
     "output_type": "execute_result"
    }
   ],
   "source": [
    "recommendation('Forever')\n"
   ]
  },
  {
   "cell_type": "code",
   "execution_count": 38,
   "id": "6c6eb0e2-dc5a-4828-988c-5d3b3909e6f2",
   "metadata": {},
   "outputs": [],
   "source": [
    "import pickle\n",
    "pickle.dump(similarity,open('similarity.pkl','wb'))\n",
    "pickle.dump(df,open('df.pkl','wb'))"
   ]
  },
  {
   "cell_type": "code",
   "execution_count": null,
   "id": "864b8f11-d587-4a5b-be6b-3e3a956c7f6e",
   "metadata": {},
   "outputs": [],
   "source": []
  }
 ],
 "metadata": {
  "kernelspec": {
   "display_name": "Python 3 (ipykernel)",
   "language": "python",
   "name": "python3"
  },
  "language_info": {
   "codemirror_mode": {
    "name": "ipython",
    "version": 3
   },
   "file_extension": ".py",
   "mimetype": "text/x-python",
   "name": "python",
   "nbconvert_exporter": "python",
   "pygments_lexer": "ipython3",
   "version": "3.12.4"
  }
 },
 "nbformat": 4,
 "nbformat_minor": 5
}
